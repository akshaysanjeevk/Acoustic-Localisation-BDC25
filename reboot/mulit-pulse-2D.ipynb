{
 "cells": [
  {
   "cell_type": "code",
   "execution_count": 6,
   "id": "e6bdb9f6",
   "metadata": {},
   "outputs": [],
   "source": [
    "import numpy as np \n",
    "import matplotlib.pyplot as plt\n",
    "# from utils import *\n",
    "plt.rcParams['text.usetex'] = True \n",
    "%run utils-singlepulse.py"
   ]
  },
  {
   "cell_type": "code",
   "execution_count": 74,
   "id": "45b1c37c",
   "metadata": {},
   "outputs": [
    {
     "data": {
      "text/plain": [
       "1.6907963267948967"
      ]
     },
     "execution_count": 74,
     "metadata": {},
     "output_type": "execute_result"
    }
   ],
   "source": [
    "np.pi/2+0.12"
   ]
  },
  {
   "cell_type": "code",
   "execution_count": 75,
   "id": "337e16bd",
   "metadata": {},
   "outputs": [
    {
     "name": "stdout",
     "output_type": "stream",
     "text": [
      "0 Double False Error\n"
     ]
    }
   ],
   "source": [
    "\n",
    "%run utils-singlepulse.py\n",
    "\n",
    "location = [True, False]\n",
    "pulsecount = 0\n",
    "INeuron = {\n",
    "    'V0': -70,\n",
    "    'Vq': -60,\n",
    "    'Vinit':-70,\n",
    "    'w1': 15,\n",
    "    'w2': 15,\n",
    "    'tau': 1, \n",
    "    'refr':25000,\n",
    "    'tmax': 100,\n",
    "    'dt':.001,\n",
    "    'k':10,\n",
    "    'window': 200,\n",
    "    'lag':300,\n",
    "    'OutA': 20\n",
    "    }\n",
    "azmt = np.pi/2\n",
    "theta_tune= [azmt]\n",
    "r2_coords = (10, np.pi)  # 60°\n",
    "r1_coords = (10, 0)  # 45°\n",
    "while location != [True, True]:\n",
    "    # Example: Spherical (r, theta) in radians\n",
    "    source_coords = (20, 3*np.pi/2)# origin\n",
    "    # polarscatter(source_coords[1],pulsecount, [r1_coords, r2_coords, source_coords])\n",
    "    timeprms = {\n",
    "        'tmax' :100, \n",
    "        'dt': 0.001,\n",
    "        'pulse_time' : 20,\n",
    "        'window':10\n",
    "        }\n",
    "    # Run simulation\n",
    "    time, source_ts, r1_ts, r2_ts = pulse_response(source_coords, \n",
    "                                                r1_coords, r2_coords, timeprms)\n",
    "    Rout = {'I1':r1_ts, 'I2':r2_ts}\n",
    "    INeuron.update(Rout)\n",
    "    t, Iout, V_I = LIFNeuron(INeuron)\n",
    "    O1Neuron = {\n",
    "        'V0': -70,\n",
    "        'Vq': -55,\n",
    "        'Vinit':-70,\n",
    "        'w1': 10,\n",
    "        'w2': 2,\n",
    "        'tau': 1, \n",
    "        'refr':3000, \n",
    "        'tmax': 100,\n",
    "        'dt':.001,\n",
    "        'k':10,\n",
    "        'window': 200,\n",
    "        'lag':500,\n",
    "        'I1': Rout['I1'],\n",
    "        'I2': Iout,\n",
    "        'OutA': 20\n",
    "        }\n",
    "    O2Neuron = {\n",
    "        'V0': -70,\n",
    "        'Vq': -55,\n",
    "        'Vinit':-70,\n",
    "        'w1': 10,\n",
    "        'w2': 2,              \n",
    "        'tau': 1, \n",
    "        'refr':3000, \n",
    "        'tmax': 100,\n",
    "        'dt':.001,\n",
    "        'k':10,\n",
    "        'window': 200,\n",
    "        'lag':500,\n",
    "        'I1': Rout['I2'],\n",
    "        'I2': Iout,\n",
    "        'OutA': 20\n",
    "        }\n",
    "    \n",
    "    t_O1, O1out, V_O1 = LIFNeuron(O1Neuron)\n",
    "    t_O2, O2out, V_O2 = LIFNeuron(O2Neuron)\n",
    "    O1 = True if np.sum(O1out) != 0 else False\n",
    "    O2 = True if np.sum(O2out) != 0 else False\n",
    "    # O1 = True; O2 = True\n",
    "    location = [O1, O2]\n",
    "    deltatheta = (np.pi/2)*np.exp(-pulsecount)\n",
    "    if (O1 == True) & (O2 == False): #source on \n",
    "        #receptor update:   \n",
    "        r1_coords = (10,r1_coords[1]-deltatheta)\n",
    "        r2_coords = (10,r2_coords[1]-deltatheta)\n",
    "        theta_tune.append(theta_tune[-1]-deltatheta)\n",
    "    elif (O1 == False) & (O2 == True): #source on \n",
    "        #receptor update:   \n",
    "        r1_coords = (10,r1_coords[1]+deltatheta)\n",
    "        r2_coords = (10,r2_coords[1]+deltatheta)\n",
    "        theta_tune.append(theta_tune[-1]+deltatheta)\n",
    "    elif (O1 == False) & (O2 == False):\n",
    "        print(pulsecount, 'Double False Error')\n",
    "        break\n",
    "    else:# (O1 == False) & (O2 == False):\n",
    "        print(pulsecount,'Target located')\n",
    "    \n",
    "    print(pulsecount, location, deltatheta)\n",
    "    pulsecount += 1\n",
    "\n",
    "    \n",
    "#update the theta postition, rewrite  rece;ptor neuron fn\n",
    "        "
   ]
  },
  {
   "cell_type": "code",
   "execution_count": 77,
   "id": "985b2dd6",
   "metadata": {},
   "outputs": [
    {
     "data": {
      "image/png": "[encoded data removed]",
      "text/plain": [
       "<Figure size 600x300 with 1 Axes>"
      ]
     },
     "metadata": {},
     "output_type": "display_data"
    }
   ],
   "source": [
    "iterations = np.arange(0, pulsecount+1, 1)\n",
    "plt.figure(figsize=(6,3))\n",
    "plt.plot(iterations,theta_tune, 'o', markersize=6)\n",
    "plt.plot(iterations,theta_tune, linewidth=.5)\n",
    "plt.plot(iterations, source_coords[-1]*np.ones_like(iterations), '--', linewidth=1)\n",
    "plt.xlabel('Iteratoins')\n",
    "plt.ylabel('Azimuth Angle(rad)')\n",
    "ax = plt.gca()\n",
    "ax.spines['right'].set_visible(False)\n",
    "ax.spines['top'].set_visible(False)\n",
    "plt.tight_layout()\n",
    "plt.savefig(f'{source_coords[1]:.2f}_convrg.png', dpi=450)"
   ]
  },
  {
   "cell_type": "code",
   "execution_count": null,
   "id": "682af4c9",
   "metadata": {},
   "outputs": [],
   "source": [
    "plt.plot(time, r1_ts-60)\n",
    "plt.plot(time, r2_ts-60)\n",
    "plt.plot(time, Iout-60)\n",
    "plt.plot(time, V_O1)\n",
    "plt.plot(time, V_O2)"
   ]
  },
  {
   "cell_type": "code",
   "execution_count": null,
   "id": "62ea94e8",
   "metadata": {},
   "outputs": [],
   "source": []
  }
 ],
 "metadata": {
  "kernelspec": {
   "display_name": "base",
   "language": "python",
   "name": "python3"
  },
  "language_info": {
   "codemirror_mode": {
    "name": "ipython",
    "version": 3
   },
   "file_extension": ".py",
   "mimetype": "text/x-python",
   "name": "python",
   "nbconvert_exporter": "python",
   "pygments_lexer": "ipython3",
   "version": "3.12.7"
  }
 },
 "nbformat": 4,
 "nbformat_minor": 5
}
