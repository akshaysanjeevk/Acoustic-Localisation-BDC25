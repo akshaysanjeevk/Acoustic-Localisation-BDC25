{
 "cells": [
  {
   "cell_type": "code",
   "execution_count": 1,
   "id": "173e37fb",
   "metadata": {},
   "outputs": [],
   "source": [
    "import numpy as np \n",
    "import matplotlib.pyplot as plt\n",
    "import pandas as pd\n",
    "from tqdm import tqdm\n",
    "# from utils import *\n",
    "%run utils-2D.py\n",
    "plt.rcParams['text.usetex'] = True "
   ]
  },
  {
   "cell_type": "code",
   "execution_count": 2,
   "id": "1bd0ced4",
   "metadata": {},
   "outputs": [],
   "source": [
    "\n",
    "init_params={\n",
    "    'v' : 2,                    # Wave speed\n",
    "    'theta_resolution' : 1,     # degrees\n",
    "    'tolerance' : 0.05,         # Detection threshold\n",
    "    'r_s' :     50,                # r of source\n",
    "    'theta_s' : np.deg2rad(60) ,      # theta of source\n",
    "    'd': 20,       #rescale with r_s*     # radially symmetric receptor positions\n",
    "    'r1_amp':15,                 # amplitude of outR1\n",
    "    'r2_amp':15,                  # amplitude of outR2\n",
    "    'r1_theta': 0,\n",
    "    'r2_theta': np.pi,\n",
    "    }\n",
    "init_params.update({'R1cart':polar2cart(init_params['d'], init_params['r1_theta']),\n",
    "                    'R2cart':polar2cart(-init_params['d'], init_params['r2_theta']),\n",
    "                    'Scart': polar2cart(init_params['r_s'],init_params['r_s'] ),\n",
    "                    })\n",
    "\n",
    "time_prms = {\n",
    "    'dt' : 0.001,                # Time step\n",
    "    'tmax' : 100,              # Simulation duration\n",
    "    'pulses' : 10,               # Period between source emissions\n",
    "    'width' : 100,               # time width of pulse window\n",
    "}\n",
    "INeuron={\n",
    "    'V0': -70,\n",
    "    'Vq': -55,\n",
    "    'w1': 5,\n",
    "    'w2':5, \n",
    "    'tau':1,\n",
    "    'rf': 10,\n",
    "    'lag':300,\n",
    "    'outAmp':20,\n",
    "    'I1': 'outR1',\n",
    "    'I2': 'outR2'\n",
    "}\n",
    "O1Neuron = {\n",
    "    'id': 'O1',\n",
    "    'V0': -70,\n",
    "    'Vq': -55,\n",
    "    'w1': .8,\n",
    "    'w2': .8,\n",
    "    'tau': 1, \n",
    "    'refr':300,\n",
    "    't0': 0, \n",
    "    'tf': 10,\n",
    "    'lag':500,\n",
    "    'I1': 'outR1',\n",
    "    'I2': 'outI',\n",
    "    'outAmp': 20\n",
    "    }\n",
    "O2Neuron = {\n",
    "    'id': 'O2',\n",
    "    'V0': -70,\n",
    "    'Vq': -55,\n",
    "    'w1': .8,\n",
    "    'w2': .8,\n",
    "    'tau': 1, \n",
    "    'refr':300,\n",
    "    't0': 0, \n",
    "    'tf': 10,\n",
    "    'lag':500,\n",
    "    'I1': 'outR2',\n",
    "    'I2': 'outI',\n",
    "    'outAmp': 20\n",
    "    }"
   ]
  },
  {
   "cell_type": "code",
   "execution_count": 5,
   "id": "26c8e9c8",
   "metadata": {},
   "outputs": [
    {
     "name": "stderr",
     "output_type": "stream",
     "text": [
      "  0%|          | 0/9 [00:00<?, ?it/s]"
     ]
    },
    {
     "name": "stderr",
     "output_type": "stream",
     "text": [
      "100%|██████████| 9/9 [00:04<00:00,  1.82it/s]\n"
     ]
    }
   ],
   "source": [
    "%run utils-2D.py\n",
    "time = np.arange(0, time_prms['tmax'], time_prms['dt'])\n",
    "emissionIdx, outS, startIdx = Source(time, time_prms)\n",
    "# df = pd.DataFrame({'time':time,\n",
    "#                     'S': outS,\n",
    "#                     # 'outR1': np.zeros_like[time],\n",
    "#                     # 'outR2': np.zeros_like[time],\n",
    "#                     # 'outI':  np.zeros_like[time],\n",
    "#                     # 'outO1': np.zeros_like[time], \n",
    "#                     # 'outO2': np.zeros_like[time]\n",
    "#                     })\n",
    "\n",
    "df0 = pd.DataFrame()\n",
    "Vdf0 = pd.DataFrame()\n",
    "\n",
    "# for i, t in enumerate(tqdm(startIdx[:-1])): \n",
    "#     stopIdx = startIdx[i+1]\n",
    "#     newtime = time[t:stopIdx]\n",
    "#     outS_new = outS[i: stopIdx]\n",
    "#     indices = np.where(outS_new == 1)[0]\n",
    "#     for nt in tqdm(newtime):\n",
    "#         df_nt, Vdf_nt = FindSource(newtime, newtime[indices],outS, \n",
    "#                                 init_params,time_prms, \n",
    "#                                 INeuron, O1Neuron, O2Neuron)\n",
    "#         df0 = pd.concat([df0,df_nt,], axis=0)\n",
    "#         Vdf0 = pd.concat([Vdf0, Vdf_nt], axis=0)\n",
    "# # update the dataframe sequentially going through each pulse.   \n",
    "\n",
    "for i, t in enumerate(tqdm(startIdx[:-1])): \n",
    "    stopIdx = startIdx[i+1]\n",
    "    newtime = time[t:stopIdx]\n",
    "    outS_new = outS[t:stopIdx]\n",
    "    emission_times = newtime[np.where(outS_new == 1)]\n",
    "    \n",
    "    # CALL FindSource ONCE PER PULSE\n",
    "    df_nt, Vdf_nt = FindSource(newtime, emission_times, outS_new, \n",
    "                                init_params, time_prms, \n",
    "                                INeuron, O1Neuron, O2Neuron)\n",
    "    \n",
    "    df0 = pd.concat([df0, df_nt], axis=0)\n",
    "    Vdf0 = pd.concat([Vdf0, Vdf_nt], axis=0)\n"
   ]
  },
  {
   "cell_type": "code",
   "execution_count": 11,
   "id": "621bb0e1",
   "metadata": {},
   "outputs": [
    {
     "data": {
      "image/png": "[encoded data removed]",
      "text/plain": [
       "<Figure size 1000x600 with 3 Axes>"
      ]
     },
     "metadata": {},
     "output_type": "display_data"
    }
   ],
   "source": [
    "%run utils-2D.py\n",
    "dfPlot(Vdf0)"
   ]
  },
  {
   "cell_type": "code",
   "execution_count": 7,
   "id": "28d989f4",
   "metadata": {},
   "outputs": [
    {
     "data": {
      "text/plain": [
       "[0, 11110, 22221, 33333, 44443, 55554, 66666, 77776, 88887, 99999]"
      ]
     },
     "execution_count": 7,
     "metadata": {},
     "output_type": "execute_result"
    }
   ],
   "source": [
    "startIdx"
   ]
  }
 ],
 "metadata": {
  "kernelspec": {
   "display_name": "base",
   "language": "python",
   "name": "python3"
  },
  "language_info": {
   "codemirror_mode": {
    "name": "ipython",
    "version": 3
   },
   "file_extension": ".py",
   "mimetype": "text/x-python",
   "name": "python",
   "nbconvert_exporter": "python",
   "pygments_lexer": "ipython3",
   "version": "3.12.7"
  }
 },
 "nbformat": 4,
 "nbformat_minor": 5
}
